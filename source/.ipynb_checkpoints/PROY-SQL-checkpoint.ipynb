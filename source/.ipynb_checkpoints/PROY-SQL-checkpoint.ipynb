{
 "cells": [
  {
   "cell_type": "code",
   "execution_count": 1,
   "id": "9c6970eb",
   "metadata": {},
   "outputs": [
    {
     "name": "stdout",
     "output_type": "stream",
     "text": [
      "Requirement already satisfied: seaborn in c:\\users\\nonito\\anaconda3\\envs\\clase\\lib\\site-packages (0.12.1)\n",
      "Requirement already satisfied: pandas>=0.25 in c:\\users\\nonito\\anaconda3\\envs\\clase\\lib\\site-packages (from seaborn) (1.5.0)\n",
      "Requirement already satisfied: matplotlib!=3.6.1,>=3.1 in c:\\users\\nonito\\anaconda3\\envs\\clase\\lib\\site-packages (from seaborn) (3.6.0)\n",
      "Requirement already satisfied: numpy>=1.17 in c:\\users\\nonito\\anaconda3\\envs\\clase\\lib\\site-packages (from seaborn) (1.23.4)\n",
      "Requirement already satisfied: python-dateutil>=2.7 in c:\\users\\nonito\\anaconda3\\envs\\clase\\lib\\site-packages (from matplotlib!=3.6.1,>=3.1->seaborn) (2.8.2)\n",
      "Requirement already satisfied: packaging>=20.0 in c:\\users\\nonito\\anaconda3\\envs\\clase\\lib\\site-packages (from matplotlib!=3.6.1,>=3.1->seaborn) (21.3)\n",
      "Requirement already satisfied: kiwisolver>=1.0.1 in c:\\users\\nonito\\anaconda3\\envs\\clase\\lib\\site-packages (from matplotlib!=3.6.1,>=3.1->seaborn) (1.4.4)\n",
      "Requirement already satisfied: pyparsing>=2.2.1 in c:\\users\\nonito\\anaconda3\\envs\\clase\\lib\\site-packages (from matplotlib!=3.6.1,>=3.1->seaborn) (3.0.9)\n",
      "Requirement already satisfied: pillow>=6.2.0 in c:\\users\\nonito\\anaconda3\\envs\\clase\\lib\\site-packages (from matplotlib!=3.6.1,>=3.1->seaborn) (9.2.0)\n",
      "Requirement already satisfied: fonttools>=4.22.0 in c:\\users\\nonito\\anaconda3\\envs\\clase\\lib\\site-packages (from matplotlib!=3.6.1,>=3.1->seaborn) (4.38.0)\n",
      "Requirement already satisfied: contourpy>=1.0.1 in c:\\users\\nonito\\anaconda3\\envs\\clase\\lib\\site-packages (from matplotlib!=3.6.1,>=3.1->seaborn) (1.0.5)\n",
      "Requirement already satisfied: cycler>=0.10 in c:\\users\\nonito\\anaconda3\\envs\\clase\\lib\\site-packages (from matplotlib!=3.6.1,>=3.1->seaborn) (0.11.0)\n",
      "Requirement already satisfied: pytz>=2020.1 in c:\\users\\nonito\\anaconda3\\envs\\clase\\lib\\site-packages (from pandas>=0.25->seaborn) (2022.4)\n",
      "Requirement already satisfied: six>=1.5 in c:\\users\\nonito\\anaconda3\\envs\\clase\\lib\\site-packages (from python-dateutil>=2.7->matplotlib!=3.6.1,>=3.1->seaborn) (1.16.0)\n",
      "Note: you may need to restart the kernel to use updated packages.\n",
      "Requirement already satisfied: requests in c:\\users\\nonito\\anaconda3\\envs\\clase\\lib\\site-packages (2.28.1)\n",
      "Requirement already satisfied: urllib3<1.27,>=1.21.1 in c:\\users\\nonito\\anaconda3\\envs\\clase\\lib\\site-packages (from requests) (1.26.12)\n",
      "Requirement already satisfied: idna<4,>=2.5 in c:\\users\\nonito\\anaconda3\\envs\\clase\\lib\\site-packages (from requests) (3.4)\n",
      "Requirement already satisfied: charset-normalizer<3,>=2 in c:\\users\\nonito\\anaconda3\\envs\\clase\\lib\\site-packages (from requests) (2.1.1)\n",
      "Requirement already satisfied: certifi>=2017.4.17 in c:\\users\\nonito\\anaconda3\\envs\\clase\\lib\\site-packages (from requests) (2022.9.24)\n",
      "Note: you may need to restart the kernel to use updated packages.\n",
      "Requirement already satisfied: openpyxl in c:\\users\\nonito\\anaconda3\\envs\\clase\\lib\\site-packages (3.0.10)\n",
      "Requirement already satisfied: et-xmlfile in c:\\users\\nonito\\anaconda3\\envs\\clase\\lib\\site-packages (from openpyxl) (1.1.0)\n",
      "Note: you may need to restart the kernel to use updated packages.\n",
      "Requirement already satisfied: xlrd in c:\\users\\nonito\\anaconda3\\envs\\clase\\lib\\site-packages (2.0.1)\n",
      "Note: you may need to restart the kernel to use updated packages.\n",
      "Requirement already satisfied: regex in c:\\users\\nonito\\anaconda3\\envs\\clase\\lib\\site-packages (2022.9.13)\n",
      "Note: you may need to restart the kernel to use updated packages.\n"
     ]
    }
   ],
   "source": [
    "%pip install seaborn\n",
    "\n",
    "%matplotlib inline\n",
    "\n",
    "%pip install requests \n",
    "\n",
    "%pip install openpyxl\n",
    "\n",
    "%pip install xlrd\n",
    "\n",
    "%pip install regex"
   ]
  },
  {
   "cell_type": "code",
   "execution_count": 2,
   "id": "a5a18ab1",
   "metadata": {},
   "outputs": [],
   "source": [
    "import pandas as pd\n",
    "pd.set_option('display.max_columns', None)\n",
    "\n",
    "import numpy as np\n",
    "\n",
    "import warnings\n",
    "warnings.filterwarnings('ignore')\n",
    "\n",
    "import regex as re\n",
    "\n",
    "import pylab as plt\n",
    "import seaborn as sns"
   ]
  },
  {
   "cell_type": "markdown",
   "id": "e03f8343",
   "metadata": {},
   "source": [
    "Se cargan las bases de datos y se revisan para comenzar a limpiarlas."
   ]
  },
  {
   "cell_type": "code",
   "execution_count": 3,
   "id": "82527fae",
   "metadata": {},
   "outputs": [],
   "source": [
    "actor = pd.read_csv('../data/actor.csv')"
   ]
  },
  {
   "cell_type": "code",
   "execution_count": 4,
   "id": "3e1f09b6",
   "metadata": {},
   "outputs": [],
   "source": [
    "category = pd.read_csv('../data/category.csv')"
   ]
  },
  {
   "cell_type": "code",
   "execution_count": 5,
   "id": "f0ea8cb3",
   "metadata": {},
   "outputs": [],
   "source": [
    "film = pd.read_csv('../data/film.csv')"
   ]
  },
  {
   "cell_type": "code",
   "execution_count": 6,
   "id": "a1e1b443",
   "metadata": {},
   "outputs": [],
   "source": [
    "inventory = pd.read_csv('../data/inventory.csv')"
   ]
  },
  {
   "cell_type": "code",
   "execution_count": 7,
   "id": "be559f32",
   "metadata": {},
   "outputs": [],
   "source": [
    "language = pd.read_csv('../data/language.csv')"
   ]
  },
  {
   "cell_type": "code",
   "execution_count": 8,
   "id": "1102bc05",
   "metadata": {},
   "outputs": [],
   "source": [
    "old_HDD = pd.read_csv('../data/old_HDD.csv')"
   ]
  },
  {
   "cell_type": "code",
   "execution_count": 9,
   "id": "1f67e687",
   "metadata": {},
   "outputs": [],
   "source": [
    "rental = pd.read_csv('../data/rental.csv')"
   ]
  },
  {
   "cell_type": "markdown",
   "id": "91828747",
   "metadata": {},
   "source": [
    "Eliminamos duplicados si los hubiese en cada una de las df"
   ]
  },
  {
   "cell_type": "code",
   "execution_count": 10,
   "id": "622371a7",
   "metadata": {},
   "outputs": [],
   "source": [
    "actor.drop_duplicates(inplace=True) \n",
    "film.drop_duplicates(inplace=True) \n",
    "inventory.drop_duplicates(inplace=True) \n",
    "language.drop_duplicates(inplace=True) \n",
    "old_HDD.drop_duplicates(inplace=True) \n",
    "rental.drop_duplicates(inplace=True) "
   ]
  },
  {
   "cell_type": "markdown",
   "id": "b344a078",
   "metadata": {},
   "source": [
    "Revisamos columnas con nulos que no aporten información"
   ]
  },
  {
   "cell_type": "code",
   "execution_count": 11,
   "id": "783813ed",
   "metadata": {},
   "outputs": [
    {
     "data": {
      "text/plain": [
       "actor_id       0\n",
       "first_name     0\n",
       "last_name      0\n",
       "last_update    0\n",
       "dtype: int64"
      ]
     },
     "execution_count": 11,
     "metadata": {},
     "output_type": "execute_result"
    }
   ],
   "source": [
    "nancolsactor = actor.isnull().sum()\n",
    "\n",
    "nancolsactor"
   ]
  },
  {
   "cell_type": "code",
   "execution_count": 12,
   "id": "348f1510",
   "metadata": {},
   "outputs": [
    {
     "data": {
      "text/plain": [
       "film_id                    0\n",
       "title                      0\n",
       "description                0\n",
       "release_year               0\n",
       "language_id                0\n",
       "original_language_id    1000\n",
       "rental_duration            0\n",
       "rental_rate                0\n",
       "length                     0\n",
       "replacement_cost           0\n",
       "rating                     0\n",
       "special_features           0\n",
       "last_update                0\n",
       "dtype: int64"
      ]
     },
     "execution_count": 12,
     "metadata": {},
     "output_type": "execute_result"
    }
   ],
   "source": [
    "nancolsfilm = film.isnull().sum()\n",
    "\n",
    "nancolsfilm"
   ]
  },
  {
   "cell_type": "code",
   "execution_count": 13,
   "id": "a6c5d875",
   "metadata": {},
   "outputs": [
    {
     "data": {
      "text/plain": [
       "(1000, 13)"
      ]
     },
     "execution_count": 13,
     "metadata": {},
     "output_type": "execute_result"
    }
   ],
   "source": [
    "film.shape"
   ]
  },
  {
   "cell_type": "code",
   "execution_count": 14,
   "id": "914681da",
   "metadata": {},
   "outputs": [
    {
     "data": {
      "text/plain": [
       "inventory_id    0\n",
       "film_id         0\n",
       "store_id        0\n",
       "last_update     0\n",
       "dtype: int64"
      ]
     },
     "execution_count": 14,
     "metadata": {},
     "output_type": "execute_result"
    }
   ],
   "source": [
    "nancolsinventory = inventory.isnull().sum()\n",
    "\n",
    "nancolsinventory"
   ]
  },
  {
   "cell_type": "code",
   "execution_count": 15,
   "id": "ca4d97eb",
   "metadata": {},
   "outputs": [
    {
     "data": {
      "text/plain": [
       "language_id    0\n",
       "name           0\n",
       "last_update    0\n",
       "dtype: int64"
      ]
     },
     "execution_count": 15,
     "metadata": {},
     "output_type": "execute_result"
    }
   ],
   "source": [
    "nancolslanguage = language.isnull().sum()\n",
    "\n",
    "nancolslanguage"
   ]
  },
  {
   "cell_type": "code",
   "execution_count": 16,
   "id": "7b565dbc",
   "metadata": {},
   "outputs": [
    {
     "data": {
      "text/plain": [
       "first_name      0\n",
       "last_name       0\n",
       "title           0\n",
       "release_year    0\n",
       "category_id     0\n",
       "dtype: int64"
      ]
     },
     "execution_count": 16,
     "metadata": {},
     "output_type": "execute_result"
    }
   ],
   "source": [
    "nancolsold = old_HDD.isnull().sum()\n",
    "\n",
    "nancolsold"
   ]
  },
  {
   "cell_type": "code",
   "execution_count": 17,
   "id": "299022eb",
   "metadata": {},
   "outputs": [
    {
     "data": {
      "text/plain": [
       "rental_id       0\n",
       "rental_date     0\n",
       "inventory_id    0\n",
       "customer_id     0\n",
       "return_date     0\n",
       "staff_id        0\n",
       "last_update     0\n",
       "dtype: int64"
      ]
     },
     "execution_count": 17,
     "metadata": {},
     "output_type": "execute_result"
    }
   ],
   "source": [
    "nancolsrental = rental.isnull().sum()\n",
    "\n",
    "nancolsrental"
   ]
  },
  {
   "cell_type": "markdown",
   "id": "2122da5c",
   "metadata": {},
   "source": [
    "No hay valores nulos en las tablas salvo en la columna 'original_language_id' de film. Se elimina esta columna tras comprobar que el 100% son nulos (coincide con las dimensiones de la tabla)"
   ]
  },
  {
   "cell_type": "code",
   "execution_count": 18,
   "id": "aa05f369",
   "metadata": {},
   "outputs": [
    {
     "data": {
      "text/plain": [
       "Index(['film_id', 'title', 'description', 'release_year', 'language_id',\n",
       "       'rental_duration', 'rental_rate', 'length', 'replacement_cost',\n",
       "       'rating', 'special_features', 'last_update'],\n",
       "      dtype='object')"
      ]
     },
     "execution_count": 18,
     "metadata": {},
     "output_type": "execute_result"
    }
   ],
   "source": [
    "film.drop(['original_language_id'], axis=1, inplace=True)\n",
    "\n",
    "film.columns"
   ]
  },
  {
   "cell_type": "markdown",
   "id": "f2eb345b",
   "metadata": {},
   "source": [
    "Se observa que 'name' en language y 'name en 'category' son diferentes y pueden llevar a confusión, por lo que se cambia el nombre de cada ID."
   ]
  },
  {
   "cell_type": "code",
   "execution_count": 19,
   "id": "5d7fcc55",
   "metadata": {},
   "outputs": [],
   "source": [
    "language.rename(columns={'name': 'name_lang'}, inplace=True)\n",
    "\n",
    "category.rename(columns={'name': 'name_cat'}, inplace=True)"
   ]
  },
  {
   "cell_type": "markdown",
   "id": "a29c53d1",
   "metadata": {},
   "source": [
    "2) Se eliminan las columnas que no aportan valor estadístico o de estudio de mercado para liberar espacio. Ejemplos: 'store_id' en inventory (identificador del lugar de almacenamiento); 'last_update' en todas las tablas salvo en old_HDD (última actualización de los datos); 'rental_date' y 'return_date' de rental no aporta información mas que cuándo se alquilan las películas y se devuelven, por lo que no aporta demasiada información."
   ]
  },
  {
   "cell_type": "code",
   "execution_count": 20,
   "id": "d5cd71cc",
   "metadata": {},
   "outputs": [],
   "source": [
    "inventory.drop(['last_update'], axis=1, inplace=True)\n",
    "rental.drop(['last_update'], axis=1, inplace=True)\n",
    "category.drop(['last_update'], axis=1, inplace=True)\n",
    "film.drop(['last_update'], axis=1, inplace=True)\n",
    "actor.drop(['last_update'], axis=1, inplace=True)\n",
    "language.drop(['last_update'], axis=1, inplace=True)"
   ]
  },
  {
   "cell_type": "markdown",
   "id": "750b4d3f",
   "metadata": {},
   "source": [
    "Iremos analizando de una en una las diferentes dataframe para revisar su contenido y analizar sus datos y si el contenido es relevante o no."
   ]
  },
  {
   "cell_type": "markdown",
   "id": "8ea6d87d",
   "metadata": {},
   "source": [
    "### Tabla actor "
   ]
  },
  {
   "cell_type": "code",
   "execution_count": 21,
   "id": "945a83f1",
   "metadata": {},
   "outputs": [
    {
     "data": {
      "text/html": [
       "<div>\n",
       "<style scoped>\n",
       "    .dataframe tbody tr th:only-of-type {\n",
       "        vertical-align: middle;\n",
       "    }\n",
       "\n",
       "    .dataframe tbody tr th {\n",
       "        vertical-align: top;\n",
       "    }\n",
       "\n",
       "    .dataframe thead th {\n",
       "        text-align: right;\n",
       "    }\n",
       "</style>\n",
       "<table border=\"1\" class=\"dataframe\">\n",
       "  <thead>\n",
       "    <tr style=\"text-align: right;\">\n",
       "      <th></th>\n",
       "      <th>actor_id</th>\n",
       "      <th>first_name</th>\n",
       "      <th>last_name</th>\n",
       "    </tr>\n",
       "  </thead>\n",
       "  <tbody>\n",
       "    <tr>\n",
       "      <th>0</th>\n",
       "      <td>1</td>\n",
       "      <td>PENELOPE</td>\n",
       "      <td>GUINESS</td>\n",
       "    </tr>\n",
       "    <tr>\n",
       "      <th>1</th>\n",
       "      <td>2</td>\n",
       "      <td>NICK</td>\n",
       "      <td>WAHLBERG</td>\n",
       "    </tr>\n",
       "    <tr>\n",
       "      <th>2</th>\n",
       "      <td>3</td>\n",
       "      <td>ED</td>\n",
       "      <td>CHASE</td>\n",
       "    </tr>\n",
       "    <tr>\n",
       "      <th>3</th>\n",
       "      <td>4</td>\n",
       "      <td>JENNIFER</td>\n",
       "      <td>DAVIS</td>\n",
       "    </tr>\n",
       "    <tr>\n",
       "      <th>4</th>\n",
       "      <td>5</td>\n",
       "      <td>JOHNNY</td>\n",
       "      <td>LOLLOBRIGIDA</td>\n",
       "    </tr>\n",
       "  </tbody>\n",
       "</table>\n",
       "</div>"
      ],
      "text/plain": [
       "   actor_id first_name     last_name\n",
       "0         1   PENELOPE       GUINESS\n",
       "1         2       NICK      WAHLBERG\n",
       "2         3         ED         CHASE\n",
       "3         4   JENNIFER         DAVIS\n",
       "4         5     JOHNNY  LOLLOBRIGIDA"
      ]
     },
     "execution_count": 21,
     "metadata": {},
     "output_type": "execute_result"
    }
   ],
   "source": [
    "actor.head()"
   ]
  },
  {
   "cell_type": "markdown",
   "id": "0fe0f55f",
   "metadata": {},
   "source": [
    "Se van a unir nombre con apellido para dejar asignados los nombres y apellidos de la tabla actor para poder compararlo con los nombres y apellidos de old_HDD."
   ]
  },
  {
   "cell_type": "code",
   "execution_count": 22,
   "id": "1232b84b",
   "metadata": {},
   "outputs": [],
   "source": [
    "actor['name_act']=actor.first_name + ' ' + actor.last_name"
   ]
  },
  {
   "cell_type": "code",
   "execution_count": 23,
   "id": "efa7c7d6",
   "metadata": {},
   "outputs": [
    {
     "data": {
      "text/html": [
       "<div>\n",
       "<style scoped>\n",
       "    .dataframe tbody tr th:only-of-type {\n",
       "        vertical-align: middle;\n",
       "    }\n",
       "\n",
       "    .dataframe tbody tr th {\n",
       "        vertical-align: top;\n",
       "    }\n",
       "\n",
       "    .dataframe thead th {\n",
       "        text-align: right;\n",
       "    }\n",
       "</style>\n",
       "<table border=\"1\" class=\"dataframe\">\n",
       "  <thead>\n",
       "    <tr style=\"text-align: right;\">\n",
       "      <th></th>\n",
       "      <th>actor_id</th>\n",
       "      <th>first_name</th>\n",
       "      <th>last_name</th>\n",
       "      <th>name_act</th>\n",
       "    </tr>\n",
       "  </thead>\n",
       "  <tbody>\n",
       "    <tr>\n",
       "      <th>0</th>\n",
       "      <td>1</td>\n",
       "      <td>PENELOPE</td>\n",
       "      <td>GUINESS</td>\n",
       "      <td>PENELOPE GUINESS</td>\n",
       "    </tr>\n",
       "    <tr>\n",
       "      <th>1</th>\n",
       "      <td>2</td>\n",
       "      <td>NICK</td>\n",
       "      <td>WAHLBERG</td>\n",
       "      <td>NICK WAHLBERG</td>\n",
       "    </tr>\n",
       "    <tr>\n",
       "      <th>2</th>\n",
       "      <td>3</td>\n",
       "      <td>ED</td>\n",
       "      <td>CHASE</td>\n",
       "      <td>ED CHASE</td>\n",
       "    </tr>\n",
       "    <tr>\n",
       "      <th>3</th>\n",
       "      <td>4</td>\n",
       "      <td>JENNIFER</td>\n",
       "      <td>DAVIS</td>\n",
       "      <td>JENNIFER DAVIS</td>\n",
       "    </tr>\n",
       "    <tr>\n",
       "      <th>4</th>\n",
       "      <td>5</td>\n",
       "      <td>JOHNNY</td>\n",
       "      <td>LOLLOBRIGIDA</td>\n",
       "      <td>JOHNNY LOLLOBRIGIDA</td>\n",
       "    </tr>\n",
       "  </tbody>\n",
       "</table>\n",
       "</div>"
      ],
      "text/plain": [
       "   actor_id first_name     last_name             name_act\n",
       "0         1   PENELOPE       GUINESS     PENELOPE GUINESS\n",
       "1         2       NICK      WAHLBERG        NICK WAHLBERG\n",
       "2         3         ED         CHASE             ED CHASE\n",
       "3         4   JENNIFER         DAVIS       JENNIFER DAVIS\n",
       "4         5     JOHNNY  LOLLOBRIGIDA  JOHNNY LOLLOBRIGIDA"
      ]
     },
     "execution_count": 23,
     "metadata": {},
     "output_type": "execute_result"
    }
   ],
   "source": [
    "actor.head()"
   ]
  },
  {
   "cell_type": "code",
   "execution_count": 24,
   "id": "638e56ce",
   "metadata": {},
   "outputs": [
    {
     "data": {
      "text/plain": [
       "SUSAN DAVIS             2\n",
       "EWAN GOODING            1\n",
       "DARYL CRAWFORD          1\n",
       "GRETA KEITEL            1\n",
       "JANE JACKMAN            1\n",
       "                       ..\n",
       "MICHELLE MCCONAUGHEY    1\n",
       "ADAM GRANT              1\n",
       "SEAN WILLIAMS           1\n",
       "GARY PENN               1\n",
       "THORA TEMPLE            1\n",
       "Name: name_act, Length: 199, dtype: int64"
      ]
     },
     "execution_count": 24,
     "metadata": {},
     "output_type": "execute_result"
    }
   ],
   "source": [
    "actor.name_act.value_counts()"
   ]
  },
  {
   "cell_type": "markdown",
   "id": "e49ef2fd",
   "metadata": {},
   "source": [
    "Se observa que hay un valor repetido que puede suponer la entrada duplicada de un dato, o que un actor/actriz tenga el mismo nombre. Se investiga."
   ]
  },
  {
   "cell_type": "code",
   "execution_count": 25,
   "id": "632ee2fa",
   "metadata": {},
   "outputs": [
    {
     "data": {
      "text/html": [
       "<div>\n",
       "<style scoped>\n",
       "    .dataframe tbody tr th:only-of-type {\n",
       "        vertical-align: middle;\n",
       "    }\n",
       "\n",
       "    .dataframe tbody tr th {\n",
       "        vertical-align: top;\n",
       "    }\n",
       "\n",
       "    .dataframe thead th {\n",
       "        text-align: right;\n",
       "    }\n",
       "</style>\n",
       "<table border=\"1\" class=\"dataframe\">\n",
       "  <thead>\n",
       "    <tr style=\"text-align: right;\">\n",
       "      <th></th>\n",
       "      <th>actor_id</th>\n",
       "      <th>first_name</th>\n",
       "      <th>last_name</th>\n",
       "      <th>name_act</th>\n",
       "    </tr>\n",
       "  </thead>\n",
       "  <tbody>\n",
       "    <tr>\n",
       "      <th>100</th>\n",
       "      <td>101</td>\n",
       "      <td>SUSAN</td>\n",
       "      <td>DAVIS</td>\n",
       "      <td>SUSAN DAVIS</td>\n",
       "    </tr>\n",
       "    <tr>\n",
       "      <th>109</th>\n",
       "      <td>110</td>\n",
       "      <td>SUSAN</td>\n",
       "      <td>DAVIS</td>\n",
       "      <td>SUSAN DAVIS</td>\n",
       "    </tr>\n",
       "  </tbody>\n",
       "</table>\n",
       "</div>"
      ],
      "text/plain": [
       "     actor_id first_name last_name     name_act\n",
       "100       101      SUSAN     DAVIS  SUSAN DAVIS\n",
       "109       110      SUSAN     DAVIS  SUSAN DAVIS"
      ]
     },
     "execution_count": 25,
     "metadata": {},
     "output_type": "execute_result"
    }
   ],
   "source": [
    "actor.loc[actor['name_act'] == 'SUSAN DAVIS']"
   ]
  },
  {
   "cell_type": "markdown",
   "id": "eeb45867",
   "metadata": {},
   "source": [
    "Dado que el actor_id no está relacionado con otra columna para poder comprobar si es correcto o no el id 101 o 110, se va a eliminar uno de ellos por estar repetido. Se interpreta que es un valor repetido y que no hay dos 'Susan Davis'."
   ]
  },
  {
   "cell_type": "code",
   "execution_count": 26,
   "id": "9459c904",
   "metadata": {},
   "outputs": [],
   "source": [
    "rowrep= actor[actor['actor_id'] == 110]\n",
    "\n",
    "rowrep= list(rowrep.index)\n",
    "\n",
    "actor.drop(rowrep, axis=0, inplace=True)"
   ]
  },
  {
   "cell_type": "code",
   "execution_count": 27,
   "id": "62fb3a4a",
   "metadata": {},
   "outputs": [
    {
     "data": {
      "text/html": [
       "<div>\n",
       "<style scoped>\n",
       "    .dataframe tbody tr th:only-of-type {\n",
       "        vertical-align: middle;\n",
       "    }\n",
       "\n",
       "    .dataframe tbody tr th {\n",
       "        vertical-align: top;\n",
       "    }\n",
       "\n",
       "    .dataframe thead th {\n",
       "        text-align: right;\n",
       "    }\n",
       "</style>\n",
       "<table border=\"1\" class=\"dataframe\">\n",
       "  <thead>\n",
       "    <tr style=\"text-align: right;\">\n",
       "      <th></th>\n",
       "      <th>actor_id</th>\n",
       "      <th>first_name</th>\n",
       "      <th>last_name</th>\n",
       "      <th>name_act</th>\n",
       "    </tr>\n",
       "  </thead>\n",
       "  <tbody>\n",
       "  </tbody>\n",
       "</table>\n",
       "</div>"
      ],
      "text/plain": [
       "Empty DataFrame\n",
       "Columns: [actor_id, first_name, last_name, name_act]\n",
       "Index: []"
      ]
     },
     "execution_count": 27,
     "metadata": {},
     "output_type": "execute_result"
    }
   ],
   "source": [
    "actor.loc[actor['actor_id'] == 110]"
   ]
  },
  {
   "cell_type": "markdown",
   "id": "ef93f191",
   "metadata": {},
   "source": [
    "### Tabla old_HDD"
   ]
  },
  {
   "cell_type": "markdown",
   "id": "b72baaf3",
   "metadata": {},
   "source": [
    "Se añade la columna name_act en el que aparece el nombre y apellido del actor/actriz."
   ]
  },
  {
   "cell_type": "code",
   "execution_count": 28,
   "id": "cbc941a8",
   "metadata": {},
   "outputs": [
    {
     "data": {
      "text/html": [
       "<div>\n",
       "<style scoped>\n",
       "    .dataframe tbody tr th:only-of-type {\n",
       "        vertical-align: middle;\n",
       "    }\n",
       "\n",
       "    .dataframe tbody tr th {\n",
       "        vertical-align: top;\n",
       "    }\n",
       "\n",
       "    .dataframe thead th {\n",
       "        text-align: right;\n",
       "    }\n",
       "</style>\n",
       "<table border=\"1\" class=\"dataframe\">\n",
       "  <thead>\n",
       "    <tr style=\"text-align: right;\">\n",
       "      <th></th>\n",
       "      <th>first_name</th>\n",
       "      <th>last_name</th>\n",
       "      <th>title</th>\n",
       "      <th>release_year</th>\n",
       "      <th>category_id</th>\n",
       "    </tr>\n",
       "  </thead>\n",
       "  <tbody>\n",
       "    <tr>\n",
       "      <th>0</th>\n",
       "      <td>PENELOPE</td>\n",
       "      <td>GUINESS</td>\n",
       "      <td>ACADEMY DINOSAUR</td>\n",
       "      <td>2006</td>\n",
       "      <td>6</td>\n",
       "    </tr>\n",
       "    <tr>\n",
       "      <th>1</th>\n",
       "      <td>PENELOPE</td>\n",
       "      <td>GUINESS</td>\n",
       "      <td>ANACONDA CONFESSIONS</td>\n",
       "      <td>2006</td>\n",
       "      <td>2</td>\n",
       "    </tr>\n",
       "    <tr>\n",
       "      <th>2</th>\n",
       "      <td>PENELOPE</td>\n",
       "      <td>GUINESS</td>\n",
       "      <td>ANGELS LIFE</td>\n",
       "      <td>2006</td>\n",
       "      <td>13</td>\n",
       "    </tr>\n",
       "    <tr>\n",
       "      <th>3</th>\n",
       "      <td>PENELOPE</td>\n",
       "      <td>GUINESS</td>\n",
       "      <td>BULWORTH COMMANDMENTS</td>\n",
       "      <td>2006</td>\n",
       "      <td>10</td>\n",
       "    </tr>\n",
       "    <tr>\n",
       "      <th>4</th>\n",
       "      <td>PENELOPE</td>\n",
       "      <td>GUINESS</td>\n",
       "      <td>CHEAPER CLYDE</td>\n",
       "      <td>2006</td>\n",
       "      <td>14</td>\n",
       "    </tr>\n",
       "  </tbody>\n",
       "</table>\n",
       "</div>"
      ],
      "text/plain": [
       "  first_name last_name                  title  release_year  category_id\n",
       "0   PENELOPE   GUINESS       ACADEMY DINOSAUR          2006            6\n",
       "1   PENELOPE   GUINESS   ANACONDA CONFESSIONS          2006            2\n",
       "2   PENELOPE   GUINESS            ANGELS LIFE          2006           13\n",
       "3   PENELOPE   GUINESS  BULWORTH COMMANDMENTS          2006           10\n",
       "4   PENELOPE   GUINESS          CHEAPER CLYDE          2006           14"
      ]
     },
     "execution_count": 28,
     "metadata": {},
     "output_type": "execute_result"
    }
   ],
   "source": [
    "old_HDD.head()"
   ]
  },
  {
   "cell_type": "code",
   "execution_count": 29,
   "id": "bf9b0d54",
   "metadata": {},
   "outputs": [],
   "source": [
    "old_HDD['name_act']=old_HDD.first_name + ' ' + old_HDD.last_name"
   ]
  },
  {
   "cell_type": "code",
   "execution_count": 30,
   "id": "0bc97daf",
   "metadata": {},
   "outputs": [
    {
     "data": {
      "text/html": [
       "<div>\n",
       "<style scoped>\n",
       "    .dataframe tbody tr th:only-of-type {\n",
       "        vertical-align: middle;\n",
       "    }\n",
       "\n",
       "    .dataframe tbody tr th {\n",
       "        vertical-align: top;\n",
       "    }\n",
       "\n",
       "    .dataframe thead th {\n",
       "        text-align: right;\n",
       "    }\n",
       "</style>\n",
       "<table border=\"1\" class=\"dataframe\">\n",
       "  <thead>\n",
       "    <tr style=\"text-align: right;\">\n",
       "      <th></th>\n",
       "      <th>first_name</th>\n",
       "      <th>last_name</th>\n",
       "      <th>title</th>\n",
       "      <th>release_year</th>\n",
       "      <th>category_id</th>\n",
       "      <th>name_act</th>\n",
       "    </tr>\n",
       "  </thead>\n",
       "  <tbody>\n",
       "    <tr>\n",
       "      <th>0</th>\n",
       "      <td>PENELOPE</td>\n",
       "      <td>GUINESS</td>\n",
       "      <td>ACADEMY DINOSAUR</td>\n",
       "      <td>2006</td>\n",
       "      <td>6</td>\n",
       "      <td>PENELOPE GUINESS</td>\n",
       "    </tr>\n",
       "    <tr>\n",
       "      <th>1</th>\n",
       "      <td>PENELOPE</td>\n",
       "      <td>GUINESS</td>\n",
       "      <td>ANACONDA CONFESSIONS</td>\n",
       "      <td>2006</td>\n",
       "      <td>2</td>\n",
       "      <td>PENELOPE GUINESS</td>\n",
       "    </tr>\n",
       "    <tr>\n",
       "      <th>2</th>\n",
       "      <td>PENELOPE</td>\n",
       "      <td>GUINESS</td>\n",
       "      <td>ANGELS LIFE</td>\n",
       "      <td>2006</td>\n",
       "      <td>13</td>\n",
       "      <td>PENELOPE GUINESS</td>\n",
       "    </tr>\n",
       "    <tr>\n",
       "      <th>3</th>\n",
       "      <td>PENELOPE</td>\n",
       "      <td>GUINESS</td>\n",
       "      <td>BULWORTH COMMANDMENTS</td>\n",
       "      <td>2006</td>\n",
       "      <td>10</td>\n",
       "      <td>PENELOPE GUINESS</td>\n",
       "    </tr>\n",
       "    <tr>\n",
       "      <th>4</th>\n",
       "      <td>PENELOPE</td>\n",
       "      <td>GUINESS</td>\n",
       "      <td>CHEAPER CLYDE</td>\n",
       "      <td>2006</td>\n",
       "      <td>14</td>\n",
       "      <td>PENELOPE GUINESS</td>\n",
       "    </tr>\n",
       "  </tbody>\n",
       "</table>\n",
       "</div>"
      ],
      "text/plain": [
       "  first_name last_name                  title  release_year  category_id  \\\n",
       "0   PENELOPE   GUINESS       ACADEMY DINOSAUR          2006            6   \n",
       "1   PENELOPE   GUINESS   ANACONDA CONFESSIONS          2006            2   \n",
       "2   PENELOPE   GUINESS            ANGELS LIFE          2006           13   \n",
       "3   PENELOPE   GUINESS  BULWORTH COMMANDMENTS          2006           10   \n",
       "4   PENELOPE   GUINESS          CHEAPER CLYDE          2006           14   \n",
       "\n",
       "           name_act  \n",
       "0  PENELOPE GUINESS  \n",
       "1  PENELOPE GUINESS  \n",
       "2  PENELOPE GUINESS  \n",
       "3  PENELOPE GUINESS  \n",
       "4  PENELOPE GUINESS  "
      ]
     },
     "execution_count": 30,
     "metadata": {},
     "output_type": "execute_result"
    }
   ],
   "source": [
    "old_HDD.head()"
   ]
  },
  {
   "cell_type": "code",
   "execution_count": 31,
   "id": "a09d73e9",
   "metadata": {},
   "outputs": [
    {
     "data": {
      "text/html": [
       "<div>\n",
       "<style scoped>\n",
       "    .dataframe tbody tr th:only-of-type {\n",
       "        vertical-align: middle;\n",
       "    }\n",
       "\n",
       "    .dataframe tbody tr th {\n",
       "        vertical-align: top;\n",
       "    }\n",
       "\n",
       "    .dataframe thead th {\n",
       "        text-align: right;\n",
       "    }\n",
       "</style>\n",
       "<table border=\"1\" class=\"dataframe\">\n",
       "  <thead>\n",
       "    <tr style=\"text-align: right;\">\n",
       "      <th></th>\n",
       "      <th>first_name</th>\n",
       "      <th>last_name</th>\n",
       "      <th>name_act</th>\n",
       "      <th>title</th>\n",
       "      <th>release_year</th>\n",
       "      <th>category_id</th>\n",
       "    </tr>\n",
       "  </thead>\n",
       "  <tbody>\n",
       "    <tr>\n",
       "      <th>0</th>\n",
       "      <td>PENELOPE</td>\n",
       "      <td>GUINESS</td>\n",
       "      <td>PENELOPE GUINESS</td>\n",
       "      <td>ACADEMY DINOSAUR</td>\n",
       "      <td>2006</td>\n",
       "      <td>6</td>\n",
       "    </tr>\n",
       "    <tr>\n",
       "      <th>1</th>\n",
       "      <td>PENELOPE</td>\n",
       "      <td>GUINESS</td>\n",
       "      <td>PENELOPE GUINESS</td>\n",
       "      <td>ANACONDA CONFESSIONS</td>\n",
       "      <td>2006</td>\n",
       "      <td>2</td>\n",
       "    </tr>\n",
       "    <tr>\n",
       "      <th>2</th>\n",
       "      <td>PENELOPE</td>\n",
       "      <td>GUINESS</td>\n",
       "      <td>PENELOPE GUINESS</td>\n",
       "      <td>ANGELS LIFE</td>\n",
       "      <td>2006</td>\n",
       "      <td>13</td>\n",
       "    </tr>\n",
       "    <tr>\n",
       "      <th>3</th>\n",
       "      <td>PENELOPE</td>\n",
       "      <td>GUINESS</td>\n",
       "      <td>PENELOPE GUINESS</td>\n",
       "      <td>BULWORTH COMMANDMENTS</td>\n",
       "      <td>2006</td>\n",
       "      <td>10</td>\n",
       "    </tr>\n",
       "    <tr>\n",
       "      <th>4</th>\n",
       "      <td>PENELOPE</td>\n",
       "      <td>GUINESS</td>\n",
       "      <td>PENELOPE GUINESS</td>\n",
       "      <td>CHEAPER CLYDE</td>\n",
       "      <td>2006</td>\n",
       "      <td>14</td>\n",
       "    </tr>\n",
       "  </tbody>\n",
       "</table>\n",
       "</div>"
      ],
      "text/plain": [
       "  first_name last_name          name_act                  title  release_year  \\\n",
       "0   PENELOPE   GUINESS  PENELOPE GUINESS       ACADEMY DINOSAUR          2006   \n",
       "1   PENELOPE   GUINESS  PENELOPE GUINESS   ANACONDA CONFESSIONS          2006   \n",
       "2   PENELOPE   GUINESS  PENELOPE GUINESS            ANGELS LIFE          2006   \n",
       "3   PENELOPE   GUINESS  PENELOPE GUINESS  BULWORTH COMMANDMENTS          2006   \n",
       "4   PENELOPE   GUINESS  PENELOPE GUINESS          CHEAPER CLYDE          2006   \n",
       "\n",
       "   category_id  \n",
       "0            6  \n",
       "1            2  \n",
       "2           13  \n",
       "3           10  \n",
       "4           14  "
      ]
     },
     "execution_count": 31,
     "metadata": {},
     "output_type": "execute_result"
    }
   ],
   "source": [
    "old_HDD=old_HDD.iloc[:, [0,1,5,2,3,4]]\n",
    "\n",
    "old_HDD.head()"
   ]
  },
  {
   "cell_type": "markdown",
   "id": "8841e189",
   "metadata": {},
   "source": [
    "No hay mucho más que trabajar en estas tablas. Se observa que habrá datos que faltarán al unificar las tablas en la base de datos ya que no todos los títulos de film están en old_HDD cuyos actores sólo están vinculados a esta tabla. Lo mismo ocurre con los datos de 'inventory_id' en rental donde se tienen más registros que no se contemplan en 'inventory_id' de inventory por lo que también aparecerán datos nulos. "
   ]
  },
  {
   "cell_type": "code",
   "execution_count": 74,
   "id": "e534e068",
   "metadata": {},
   "outputs": [
    {
     "data": {
      "text/plain": [
       "614"
      ]
     },
     "execution_count": 74,
     "metadata": {},
     "output_type": "execute_result"
    }
   ],
   "source": [
    "old_HDD.title.nunique()"
   ]
  },
  {
   "cell_type": "code",
   "execution_count": 75,
   "id": "a405a0ce",
   "metadata": {},
   "outputs": [
    {
     "data": {
      "text/plain": [
       "1000"
      ]
     },
     "execution_count": 75,
     "metadata": {},
     "output_type": "execute_result"
    }
   ],
   "source": [
    "film.title.nunique()"
   ]
  },
  {
   "cell_type": "code",
   "execution_count": 85,
   "id": "d917e32b",
   "metadata": {},
   "outputs": [
    {
     "data": {
      "text/plain": [
       "1       1\n",
       "672     1\n",
       "659     1\n",
       "660     1\n",
       "661     1\n",
       "       ..\n",
       "339     1\n",
       "340     1\n",
       "341     1\n",
       "342     1\n",
       "1000    1\n",
       "Name: inventory_id, Length: 1000, dtype: int64"
      ]
     },
     "execution_count": 85,
     "metadata": {},
     "output_type": "execute_result"
    }
   ],
   "source": [
    "inventory['inventory_id'].value_counts()"
   ]
  },
  {
   "cell_type": "code",
   "execution_count": 84,
   "id": "194203ae",
   "metadata": {},
   "outputs": [
    {
     "data": {
      "text/plain": [
       "367     1\n",
       "1769    1\n",
       "1414    1\n",
       "2247    1\n",
       "2968    1\n",
       "       ..\n",
       "946     1\n",
       "4168    1\n",
       "4019    1\n",
       "3301    1\n",
       "1498    1\n",
       "Name: inventory_id, Length: 1000, dtype: int64"
      ]
     },
     "execution_count": 84,
     "metadata": {},
     "output_type": "execute_result"
    }
   ],
   "source": [
    "rental['inventory_id'].value_counts()"
   ]
  },
  {
   "cell_type": "markdown",
   "id": "edb88e11",
   "metadata": {},
   "source": [
    "Se exportan las nuevas tablas para trabajar en SQL."
   ]
  },
  {
   "cell_type": "code",
   "execution_count": 88,
   "id": "2332b3a7",
   "metadata": {},
   "outputs": [],
   "source": [
    "actor.to_csv('../data/actor2.csv', index=False)\n",
    "category.to_csv('../data/category2.csv', index=False)\n",
    "film.to_csv('../data/film2.csv', index=False)\n",
    "inventory.to_csv('../data/inventory2.csv', index=False)\n",
    "language.to_csv('../data/language2.csv', index=False)\n",
    "old_HDD.to_csv('../data/old_HDD2.csv', index=False)\n",
    "rental.to_csv('../data/rental2.csv', index=False)"
   ]
  },
  {
   "cell_type": "code",
   "execution_count": null,
   "id": "c8155f93",
   "metadata": {},
   "outputs": [],
   "source": []
  }
 ],
 "metadata": {
  "kernelspec": {
   "display_name": "Clase",
   "language": "python",
   "name": "clase"
  },
  "language_info": {
   "codemirror_mode": {
    "name": "ipython",
    "version": 3
   },
   "file_extension": ".py",
   "mimetype": "text/x-python",
   "name": "python",
   "nbconvert_exporter": "python",
   "pygments_lexer": "ipython3",
   "version": "3.8.13"
  }
 },
 "nbformat": 4,
 "nbformat_minor": 5
}
